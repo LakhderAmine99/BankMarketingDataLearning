{
 "cells": [
  {
   "cell_type": "code",
   "execution_count": 11,
   "metadata": {},
   "outputs": [],
   "source": [
    "import pandas as pd\n",
    "import numpy as np\n",
    "\n",
    "from module.BankMarketingDataProcessor import BankMarketingDataProcessor\n",
    "from module.BankMarketingDataSerializer import BankMarketingDataSerializer\n",
    "from module.BankMarketingDataLearner import BankMarketingDataLearner\n",
    "\n",
    "from sklearn import manifold\n",
    "from sklearn import metrics\n",
    "\n",
    "import plotly.express as px\n"
   ]
  },
  {
   "cell_type": "markdown",
   "metadata": {},
   "source": [
    "## Initial Bank Marketing Dataset"
   ]
  },
  {
   "cell_type": "code",
   "execution_count": 12,
   "metadata": {},
   "outputs": [],
   "source": [
    "data = pd.read_csv(\"data/bank.csv\",sep=\";\")\n",
    "clustering_data = pd.read_csv(\"data/clustering_bank_data.csv\",index_col=0)"
   ]
  },
  {
   "cell_type": "code",
   "execution_count": 13,
   "metadata": {},
   "outputs": [],
   "source": [
    "BankDataProcessor = BankMarketingDataProcessor(data=data)\n",
    "\n",
    "BankDataLearner = BankMarketingDataLearner(processor=BankDataProcessor,serializer=None)\n",
    "\n"
   ]
  },
  {
   "cell_type": "code",
   "execution_count": 14,
   "metadata": {},
   "outputs": [],
   "source": [
    "clustered_data = BankDataLearner.createKMeansModel()"
   ]
  },
  {
   "cell_type": "code",
   "execution_count": 15,
   "metadata": {},
   "outputs": [],
   "source": [
    "data_and_centers = np.r_[clustering_data,clustered_data.cluster_centers_]"
   ]
  }
 ],
 "metadata": {
  "kernelspec": {
   "display_name": "Python 3.10.3 ('env': venv)",
   "language": "python",
   "name": "python3"
  },
  "language_info": {
   "codemirror_mode": {
    "name": "ipython",
    "version": 3
   },
   "file_extension": ".py",
   "mimetype": "text/x-python",
   "name": "python",
   "nbconvert_exporter": "python",
   "pygments_lexer": "ipython3",
   "version": "3.10.3"
  },
  "orig_nbformat": 4,
  "vscode": {
   "interpreter": {
    "hash": "1a834f6462a3f168d86706f611d3a6ec0a30a04c45989153acacf488d6fae24c"
   }
  }
 },
 "nbformat": 4,
 "nbformat_minor": 2
}
